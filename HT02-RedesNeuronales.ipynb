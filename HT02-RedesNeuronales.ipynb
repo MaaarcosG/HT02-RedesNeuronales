{
 "cells": [
  {
   "cell_type": "markdown",
   "metadata": {},
   "source": [
    "# Hoja de Trabajo No. 2"
   ]
  },
  {
   "cell_type": "code",
   "execution_count": 1,
   "metadata": {},
   "outputs": [],
   "source": [
    "#Usamos el codigo proporsionado para lectura de datos\n",
    "import mnist_reader\n",
    "\n",
    "#Librerias a utilizar\n",
    "from RedesNeuronales import *\n",
    "#libreria a importar\n",
    "import matplotlib.pyplot as plt\n",
    "import matplotlib.image as mpimg\n",
    "import numpy as np\n",
    "import pandas as pd\n",
    "import random\n",
    "from scipy import optimize as op\n",
    "from PIL import Image"
   ]
  },
  {
   "cell_type": "markdown",
   "metadata": {},
   "source": [
    "#### IMPORTACION DE LOS DATOS"
   ]
  },
  {
   "cell_type": "code",
   "execution_count": 2,
   "metadata": {},
   "outputs": [],
   "source": [
    "#Obtenemos los datos concatenados\n",
    "Train = mnist_reader.load_mnist('data/fashion', kind='train')\n",
    "Test = mnist_reader.load_mnist('data/fashion', kind='t10k')"
   ]
  },
  {
   "cell_type": "code",
   "execution_count": 3,
   "metadata": {},
   "outputs": [],
   "source": [
    "#Separamos los datos de entrenamiento\n",
    "X_train, y_train = Train\n",
    "#Separamos los datos de pruebra\n",
    "X_test, y_test = Test"
   ]
  },
  {
   "cell_type": "markdown",
   "metadata": {},
   "source": [
    "#### CREACION DE REDES NEURONALES"
   ]
  },
  {
   "cell_type": "code",
   "execution_count": 4,
   "metadata": {},
   "outputs": [],
   "source": [
    "#Convertimos los datos a float32 para mejor manejor\n",
    "XTrain = np.array(X_train, dtype=np.float32)\n",
    "XTest = np.array(X_test, dtype=np.float32)"
   ]
  },
  {
   "cell_type": "code",
   "execution_count": 5,
   "metadata": {},
   "outputs": [],
   "source": [
    "#Normalizamos los datos\n",
    "XTrain = XTrain / 1000.0\n",
    "XTest = XTest / 1000.0"
   ]
  },
  {
   "cell_type": "code",
   "execution_count": 6,
   "metadata": {},
   "outputs": [
    {
     "name": "stdout",
     "output_type": "stream",
     "text": [
      "(60000, 784)\n"
     ]
    }
   ],
   "source": [
    "XTrain.shape\n",
    "m1, n1 = XTrain.shape\n",
    "print(XTrain.shape)"
   ]
  },
  {
   "cell_type": "code",
   "execution_count": 7,
   "metadata": {},
   "outputs": [
    {
     "name": "stdout",
     "output_type": "stream",
     "text": [
      "(10000, 784)\n"
     ]
    }
   ],
   "source": [
    "XTest.shape\n",
    "m2, n2 = XTest.shape\n",
    "print(XTest.shape)"
   ]
  },
  {
   "cell_type": "code",
   "execution_count": 8,
   "metadata": {},
   "outputs": [
    {
     "name": "stdout",
     "output_type": "stream",
     "text": [
      "[INFO] Se obtienen los datos normalizados\n"
     ]
    }
   ],
   "source": [
    "#Valores de X, uniendo los datos normalizados\n",
    "X = np.vstack((\n",
    "    XTrain,\n",
    "    XTest\n",
    "))\n",
    "print(\"[INFO] Se obtienen los datos normalizados\")"
   ]
  },
  {
   "cell_type": "code",
   "execution_count": 9,
   "metadata": {},
   "outputs": [],
   "source": [
    "y_train = y_train.reshape(m1, 1)\n",
    "y_test = y_test.reshape(m2, 1)"
   ]
  },
  {
   "cell_type": "code",
   "execution_count": 10,
   "metadata": {},
   "outputs": [
    {
     "name": "stdout",
     "output_type": "stream",
     "text": [
      "[INFO] Se obtienen las labels de los datos\n"
     ]
    }
   ],
   "source": [
    "#Unimos los valores de label\n",
    "Y = np.vstack((\n",
    "    y_train,\n",
    "    y_test\n",
    "))\n",
    "print(\"[INFO] Se obtienen las labels de los datos\")"
   ]
  },
  {
   "cell_type": "code",
   "execution_count": 11,
   "metadata": {},
   "outputs": [],
   "source": [
    "#Convertimos los valores a int\n",
    "Y = np.array(Y, dtype=np.int)\n",
    "#Realizamos la matriz de categorizacion\n",
    "categorizacion = (Y == np.array(range(10)))"
   ]
  },
  {
   "cell_type": "code",
   "execution_count": 12,
   "metadata": {},
   "outputs": [],
   "source": [
    "#Estructura del modelo de la red neuronal NN (NEURAL NET)\n",
    "# 130 neuronas de entrada y 10 neuronas de salida\n",
    "NN = np.array([\n",
    "    X.shape[1],\n",
    "    130,\n",
    "    10\n",
    "])"
   ]
  },
  {
   "cell_type": "code",
   "execution_count": 13,
   "metadata": {},
   "outputs": [],
   "source": [
    "#Shape de la matrices peso Theta\n",
    "thetas_shapes = np.hstack((\n",
    "    NN[1:].reshape(len(NN) - 1, 1),\n",
    "    (NN[:-1] + 1).reshape(len(NN) - 1, 1)\n",
    "))"
   ]
  },
  {
   "cell_type": "code",
   "execution_count": 14,
   "metadata": {},
   "outputs": [
    {
     "name": "stdout",
     "output_type": "stream",
     "text": [
      "La matriz de peso de theta:  [130 785] [ 10 131]\n"
     ]
    }
   ],
   "source": [
    "print(\"La matriz de peso de theta: \", thetas_shapes[0], thetas_shapes[1])"
   ]
  },
  {
   "cell_type": "code",
   "execution_count": 15,
   "metadata": {},
   "outputs": [],
   "source": [
    "#Se creo un set de pesos de Thetas, es decir, Matriz de peso de forma random\n",
    "flat_thetas = flatten_list_of_arrays([\n",
    "    np.random.rand(*theta_shape)\n",
    "    for theta_shape in thetas_shapes\n",
    "])"
   ]
  },
  {
   "cell_type": "code",
   "execution_count": 16,
   "metadata": {},
   "outputs": [
    {
     "name": "stdout",
     "output_type": "stream",
     "text": [
      "Las thetas son:  [0.25753756 0.28941625 0.84841877 ... 0.75481612 0.24925473 0.58991099]\n"
     ]
    }
   ],
   "source": [
    "print(\"Las thetas son: \", flat_thetas)"
   ]
  },
  {
   "cell_type": "code",
   "execution_count": 17,
   "metadata": {},
   "outputs": [],
   "source": [
    "#Random d tetas para analisis\n",
    "np.savetxt(\"data/fashion/Thetas0ptimizadas.txt\", flat_thetas)"
   ]
  },
  {
   "cell_type": "markdown",
   "metadata": {},
   "source": [
    "### ANALISIS "
   ]
  },
  {
   "cell_type": "code",
   "execution_count": 18,
   "metadata": {},
   "outputs": [],
   "source": [
    "m3, n3 = X_test.shape\n",
    "y_test = y_test.reshape(m3, 1)"
   ]
  },
  {
   "cell_type": "code",
   "execution_count": 19,
   "metadata": {},
   "outputs": [],
   "source": [
    "#Obtenemos los datos de las thetas optimizadas\n",
    "thetas_opti = np.loadtxt(\"data/fashion/ThetasOptimizadas.txt\")"
   ]
  },
  {
   "cell_type": "code",
   "execution_count": 37,
   "metadata": {},
   "outputs": [],
   "source": [
    "#Obtenemos la matriz de theta\n",
    "thetas = inflate_matrixes(\n",
    "    thetas_opti,\n",
    "    thetas_shapes\n",
    ")"
   ]
  },
  {
   "cell_type": "code",
   "execution_count": 38,
   "metadata": {},
   "outputs": [],
   "source": [
    "# Implementacion del feed for ward\n",
    "FeedForWard = feed_forward(\n",
    "    thetas,\n",
    "    XTrain\n",
    ")"
   ]
  },
  {
   "cell_type": "code",
   "execution_count": 39,
   "metadata": {},
   "outputs": [
    {
     "name": "stdout",
     "output_type": "stream",
     "text": [
      "Tamño de FeedForWard 3\n"
     ]
    }
   ],
   "source": [
    "print(\"Tamño de FeedForWard\", len(FeedForWard))"
   ]
  },
  {
   "cell_type": "code",
   "execution_count": 40,
   "metadata": {},
   "outputs": [
    {
     "data": {
      "text/plain": [
       "array([9, 0, 3, ..., 3, 0, 5], dtype=int32)"
      ]
     },
     "execution_count": 40,
     "metadata": {},
     "output_type": "execute_result"
    }
   ],
   "source": [
    "#Datos predichos\n",
    "maximo = np.argmax(FeedForWard[-1], axis=1)\n",
    "maximo"
   ]
  },
  {
   "cell_type": "markdown",
   "metadata": {},
   "source": [
    "### VISUALIZACION "
   ]
  },
  {
   "cell_type": "code",
   "execution_count": 41,
   "metadata": {},
   "outputs": [],
   "source": [
    "X_test, y_test = Test"
   ]
  },
  {
   "cell_type": "code",
   "execution_count": 42,
   "metadata": {},
   "outputs": [],
   "source": [
    "#array de clasificacion\n",
    "label = [\"T-shirt\", \"Trouser\", \"Pullover\", \"Dress\", \"Coat\", \"Sandal\", \"Shirt\", \"Sneaker\", \"Bag\", \"Ankle boot\"]"
   ]
  },
  {
   "cell_type": "code",
   "execution_count": 43,
   "metadata": {},
   "outputs": [
    {
     "name": "stdout",
     "output_type": "stream",
     "text": [
      "Real:  Ankle boot\n",
      "Real:  Pullover\n",
      "Real:  Trouser\n",
      "Real:  Trouser\n",
      "Real:  Shirt\n"
     ]
    }
   ],
   "source": [
    "for i in range(5):\n",
    "    print(\"Real: \", label[y_test[i]])"
   ]
  },
  {
   "cell_type": "code",
   "execution_count": 44,
   "metadata": {},
   "outputs": [
    {
     "name": "stdout",
     "output_type": "stream",
     "text": [
      "Predicho: Ankle boot\n",
      "Predicho: T-shirt\n",
      "Predicho: Dress\n",
      "Predicho: Dress\n",
      "Predicho: T-shirt\n"
     ]
    }
   ],
   "source": [
    "for i in range(5):\n",
    "    print(\"Predicho: \" + label[maximo[i]])"
   ]
  },
  {
   "cell_type": "code",
   "execution_count": null,
   "metadata": {},
   "outputs": [],
   "source": []
  }
 ],
 "metadata": {
  "kernelspec": {
   "display_name": "Python 3",
   "language": "python",
   "name": "python3"
  },
  "language_info": {
   "codemirror_mode": {
    "name": "ipython",
    "version": 3
   },
   "file_extension": ".py",
   "mimetype": "text/x-python",
   "name": "python",
   "nbconvert_exporter": "python",
   "pygments_lexer": "ipython3",
   "version": "3.8.2"
  }
 },
 "nbformat": 4,
 "nbformat_minor": 4
}
