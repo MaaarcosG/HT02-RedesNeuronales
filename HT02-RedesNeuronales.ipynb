{
 "cells": [
  {
   "cell_type": "markdown",
   "metadata": {},
   "source": [
    "\n",
    "# LABORATORIO DE REDES NEURONALES\n",
    "\n",
    "-----------------------------------------------"
   ]
  },
  {
   "cell_type": "markdown",
   "metadata": {},
   "source": [
    "En este laboratoria se estara realizando el modelo de redes neuronales **feed for ward**"
   ]
  },
  {
   "cell_type": "markdown",
   "metadata": {},
   "source": [
    "IMPORTAMOS LAS LIBRERIAS UTILICES PARA REALIZAR EL MODELO DE REDES NEURONALES"
   ]
  },
  {
   "cell_type": "code",
   "execution_count": 39,
   "metadata": {},
   "outputs": [],
   "source": [
    "#Usamos el codigo proporsionado para lectura de datos\n",
    "import mnist_reader\n",
    "\n",
    "#Librerias a utilizar\n",
    "from RedesNeuronales import *\n",
    "\n",
    "#libreria a importar\n",
    "import matplotlib.pyplot as plt\n",
    "import matplotlib.image as mpimg\n",
    "import numpy as np\n",
    "import pandas as pd\n",
    "import random\n",
    "from scipy import optimize as op\n",
    "from PIL import Image"
   ]
  },
  {
   "cell_type": "markdown",
   "metadata": {},
   "source": [
    "#### LECTURA DE DATOS"
   ]
  },
  {
   "cell_type": "code",
   "execution_count": 2,
   "metadata": {},
   "outputs": [],
   "source": [
    "#Obtenemos los datos concatenados\n",
    "Train = mnist_reader.load_mnist('data/fashion', kind='train')\n",
    "Test = mnist_reader.load_mnist('data/fashion', kind='t10k')"
   ]
  },
  {
   "cell_type": "markdown",
   "metadata": {},
   "source": [
    "#### PREPARACION DE LOS DATOS"
   ]
  },
  {
   "cell_type": "markdown",
   "metadata": {},
   "source": [
    "Separamos los datos de los dataframe para que se pueda trabajar de manera separada, ya que los primeros datos del dataframe representan label (nombre de prenda) y los demas representan los datos de la imagen "
   ]
  },
  {
   "cell_type": "code",
   "execution_count": 3,
   "metadata": {},
   "outputs": [],
   "source": [
    "#Separamos los datos de entrenamiento\n",
    "X_train, y_train = Train\n",
    "#Separamos los datos de pruebra\n",
    "X_test, y_test = Test"
   ]
  },
  {
   "cell_type": "code",
   "execution_count": 4,
   "metadata": {},
   "outputs": [
    {
     "name": "stdout",
     "output_type": "stream",
     "text": [
      "60000 784\n"
     ]
    }
   ],
   "source": [
    "mTrain, nTrain = X_train.shape\n",
    "print(mTrain, nTrain)"
   ]
  },
  {
   "cell_type": "code",
   "execution_count": 5,
   "metadata": {},
   "outputs": [
    {
     "name": "stdout",
     "output_type": "stream",
     "text": [
      "10000 784\n"
     ]
    }
   ],
   "source": [
    "mTest, nTest = X_test.shape\n",
    "print(mTest, nTest)"
   ]
  },
  {
   "cell_type": "code",
   "execution_count": 6,
   "metadata": {},
   "outputs": [],
   "source": [
    "#Convertimos los datos a int64 para mejor manejor\n",
    "X_train = np.array(X_train, dtype=np.int64)\n",
    "X_test = np.array(X_test, dtype=np.int64)"
   ]
  },
  {
   "cell_type": "code",
   "execution_count": 7,
   "metadata": {},
   "outputs": [],
   "source": [
    "#Normalizamos los datos\n",
    "X_train = X_train / 1000.0\n",
    "X_test = X_test / 1000.0"
   ]
  },
  {
   "cell_type": "code",
   "execution_count": 8,
   "metadata": {},
   "outputs": [],
   "source": [
    "X = np.vstack((\n",
    "    XTrain,\n",
    "    XTest\n",
    "))\n",
    "\n",
    "#mX, nX = X.shape\n",
    "mX, nX = (70000, 784)"
   ]
  },
  {
   "cell_type": "code",
   "execution_count": 9,
   "metadata": {},
   "outputs": [],
   "source": [
    "#reformamos los valores de y\n",
    "y_train = y_train.reshape(mTrain, 1)\n",
    "y_test = y_test.reshape(mTest, 1)"
   ]
  },
  {
   "cell_type": "code",
   "execution_count": 10,
   "metadata": {},
   "outputs": [
    {
     "name": "stdout",
     "output_type": "stream",
     "text": [
      "[INFO] Se obtienen las labels de los datos\n"
     ]
    }
   ],
   "source": [
    "#Unimos los valores de label\n",
    "Y = np.vstack((\n",
    "    y_train,\n",
    "    y_test\n",
    "))\n",
    "\n",
    "Y = Y.reshape(mX, 1)\n",
    "\n",
    "print(\"[INFO] Se obtienen las labels de los datos\")"
   ]
  },
  {
   "cell_type": "code",
   "execution_count": 11,
   "metadata": {},
   "outputs": [],
   "source": [
    "# Matriz del label (nombre de la prenda)\n",
    "y = (Y == np.arange(10, dtype=np.int))"
   ]
  },
  {
   "cell_type": "code",
   "execution_count": 12,
   "metadata": {},
   "outputs": [],
   "source": [
    "#Estructura del modelo de la red neuronal NN (NEURAL NET)\n",
    "# 130 neuronas de entrada y 10 neuronas de salida\n",
    "NN = np.array([\n",
    "    nX,\n",
    "    130,\n",
    "    10\n",
    "])"
   ]
  },
  {
   "cell_type": "code",
   "execution_count": 13,
   "metadata": {},
   "outputs": [],
   "source": [
    "#Shape de la matrices peso Theta\n",
    "theta_shapes  = np.hstack((\n",
    "    NN[1:].reshape(len(NN) - 1, 1),\n",
    "    (NN[:-1] + 1).reshape(len(NN) - 1, 1)\n",
    "))"
   ]
  },
  {
   "cell_type": "code",
   "execution_count": 14,
   "metadata": {},
   "outputs": [],
   "source": [
    "#Se creo un set de pesos de Thetas, es decir, Matriz de peso de forma random\n",
    "flat_thetas = flatten_list_of_arrays([\n",
    "    np.random.rand(*theta_shape)\n",
    "    for theta_shape in theta_shapes\n",
    "])"
   ]
  },
  {
   "cell_type": "markdown",
   "metadata": {},
   "source": [
    "#### OPTIMIZACION DE LOS DATOS"
   ]
  },
  {
   "cell_type": "code",
   "execution_count": 15,
   "metadata": {},
   "outputs": [],
   "source": [
    "#Este codigo tarda bastante en compilar, por lo que se recomienda no ejecutar...\n",
    "#thetasOptimizadas = op.minimize(\n",
    "#    fun = cost_function,\n",
    "#    x0 = flat_thetas,\n",
    "#    args = (theta_shapes, X, Y),\n",
    "#    method = 'L-BFGS-B',\n",
    "#    jac = back_propagation,\n",
    "#   options = {'disp': True, 'maxiter': 3000}\n",
    "\n",
    "# Guardamos los datos en un txt\n",
    "#np.savetxt(\"data/Optimizada.txt\", thetasOptimizadas.x)"
   ]
  },
  {
   "cell_type": "markdown",
   "metadata": {},
   "source": [
    "#### PROBAMOS EL MODELO CON LOS DATOS DE TEST"
   ]
  },
  {
   "cell_type": "markdown",
   "metadata": {},
   "source": [
    "Este modelo se realiza con las tetas optimizadas"
   ]
  },
  {
   "cell_type": "code",
   "execution_count": 16,
   "metadata": {},
   "outputs": [],
   "source": [
    "#Obtenemos los datos de las thetas optimizadas\n",
    "thetas_opti = np.loadtxt(\"data/Optimizada.txt\")"
   ]
  },
  {
   "cell_type": "code",
   "execution_count": 17,
   "metadata": {},
   "outputs": [],
   "source": [
    "#Obtenemos la matriz de theta\n",
    "thetas = inflate_matrixes(\n",
    "    thetas_opti,\n",
    "    theta_shapes\n",
    ")"
   ]
  },
  {
   "cell_type": "code",
   "execution_count": 18,
   "metadata": {},
   "outputs": [],
   "source": [
    "# Implementacion del feed for ward\n",
    "FeedForWard = feed_forward(\n",
    "    thetas,\n",
    "    X_test\n",
    ")"
   ]
  },
  {
   "cell_type": "markdown",
   "metadata": {},
   "source": [
    "#### ANALISIS DE LOS DATOS OBTENIDOS"
   ]
  },
  {
   "cell_type": "code",
   "execution_count": 19,
   "metadata": {},
   "outputs": [],
   "source": [
    "#Obtenemos los valores predichos por el modelo, en el label para mejor analisis\n",
    "labelPredicho = np.argmax(FeedForWard[-1], axis = 1)"
   ]
  },
  {
   "cell_type": "markdown",
   "metadata": {},
   "source": [
    "Se realiza un calculo para ver cuantos aciertos y ver el porcentaje de exactitud que hay en el modelo"
   ]
  },
  {
   "cell_type": "code",
   "execution_count": 20,
   "metadata": {},
   "outputs": [
    {
     "name": "stdout",
     "output_type": "stream",
     "text": [
      "Aciertos:  8607\n",
      "Fallos:  1393\n"
     ]
    }
   ],
   "source": [
    "accuracy = 0\n",
    "fail = 0\n",
    "#range el tamaño de los labels predichos con el modelo\n",
    "length = len(FeedForWard[-1])\n",
    "\n",
    "#Ciclo para verificar la exactitud del modelo\n",
    "for i in range(length):\n",
    "    #si el valor del test es igual al valor encontrado\n",
    "    if(labelPredicho[i] == y_test[i][0]):\n",
    "        accuracy += 1\n",
    "    #si no es igual\n",
    "    else:\n",
    "        fail +=1\n",
    "\n",
    "print(\"Aciertos: \", accuracy)\n",
    "print(\"Fallos: \", fail)\n",
    "    "
   ]
  },
  {
   "cell_type": "code",
   "execution_count": 21,
   "metadata": {},
   "outputs": [
    {
     "name": "stdout",
     "output_type": "stream",
     "text": [
      "El porcentaje de exactitud es:  86 %\n"
     ]
    }
   ],
   "source": [
    "#Calculamos el porcentaje de exactitud del modelo\n",
    "percentage = round(100* accuracy/length)\n",
    "print(\"El porcentaje de exactitud es: \", percentage ,\"%\")"
   ]
  },
  {
   "cell_type": "markdown",
   "metadata": {},
   "source": [
    "### VISUALIZACION DE DATOS"
   ]
  },
  {
   "cell_type": "code",
   "execution_count": 57,
   "metadata": {},
   "outputs": [],
   "source": [
    "X_test, y_test = Test"
   ]
  },
  {
   "cell_type": "code",
   "execution_count": 59,
   "metadata": {},
   "outputs": [],
   "source": [
    "#array de clasificacion\n",
    "label = [\"T-shirt\", \"Trouser\", \"Pullover\", \"Dress\", \"Coat\", \"Sandal\", \"Shirt\", \"Sneaker\", \"Bag\", \"Ankle boot\"]"
   ]
  },
  {
   "cell_type": "code",
   "execution_count": 119,
   "metadata": {},
   "outputs": [],
   "source": [
    "#Funcion para convertir de lista a matriz para generar las imagenes\n",
    "#Resive los datos de la imagen en formato uint8\n",
    "#Tamaño corresponiente a la imagen\n",
    "def createImagen(data, size):\n",
    "    matrixImage = [(x, x, x) for x in data]\n",
    "    return np.asarray(matrixImage).reshape(size, size, 3)"
   ]
  },
  {
   "cell_type": "markdown",
   "metadata": {},
   "source": [
    "Verificamos con las labels si es real lo antes predicho, pero con la diferencia de que solo revisamos 5 datos para mayor visualizacion, se mostrara tambien la imagen de la prenda real "
   ]
  },
  {
   "cell_type": "code",
   "execution_count": 120,
   "metadata": {},
   "outputs": [
    {
     "name": "stdout",
     "output_type": "stream",
     "text": [
      "Imagen Real\n"
     ]
    },
    {
     "data": {
      "image/png": "[encoded data removed]",
      "text/plain": [
       "<Figure size 432x288 with 1 Axes>"
      ]
     },
     "metadata": {
      "needs_background": "light"
     },
     "output_type": "display_data"
    },
    {
     "name": "stdout",
     "output_type": "stream",
     "text": [
      "Real:  Ankle boot\n",
      "Predicho: Ankle boot\n",
      "\n",
      "\n",
      "Imagen Real\n"
     ]
    },
    {
     "data": {
      "image/png": "[encoded data removed]",
      "text/plain": [
       "<Figure size 432x288 with 1 Axes>"
      ]
     },
     "metadata": {
      "needs_background": "light"
     },
     "output_type": "display_data"
    },
    {
     "name": "stdout",
     "output_type": "stream",
     "text": [
      "Real:  Pullover\n",
      "Predicho: Pullover\n",
      "\n",
      "\n",
      "Imagen Real\n"
     ]
    },
    {
     "data": {
      "image/png": "[encoded data removed]",
      "text/plain": [
       "<Figure size 432x288 with 1 Axes>"
      ]
     },
     "metadata": {
      "needs_background": "light"
     },
     "output_type": "display_data"
    },
    {
     "name": "stdout",
     "output_type": "stream",
     "text": [
      "Real:  Trouser\n",
      "Predicho: Trouser\n",
      "\n",
      "\n",
      "Imagen Real\n"
     ]
    },
    {
     "data": {
      "image/png": "[encoded data removed]",
      "text/plain": [
       "<Figure size 432x288 with 1 Axes>"
      ]
     },
     "metadata": {
      "needs_background": "light"
     },
     "output_type": "display_data"
    },
    {
     "name": "stdout",
     "output_type": "stream",
     "text": [
      "Real:  Trouser\n",
      "Predicho: Trouser\n",
      "\n",
      "\n",
      "Imagen Real\n"
     ]
    },
    {
     "data": {
      "image/png": "[encoded data removed]",
      "text/plain": [
       "<Figure size 432x288 with 1 Axes>"
      ]
     },
     "metadata": {
      "needs_background": "light"
     },
     "output_type": "display_data"
    },
    {
     "name": "stdout",
     "output_type": "stream",
     "text": [
      "Real:  Shirt\n",
      "Predicho: Shirt\n",
      "\n",
      "\n"
     ]
    }
   ],
   "source": [
    "for i in range(5):\n",
    "    #contador +=i \n",
    "    #matrixImage = [(x, x, x) for x in X_test[contador]]\n",
    "    #data = np.asarray(matrixImage).reshape(28, 28, 3)\n",
    "    \n",
    "    dataMatrix = createImagen(X_test[i], 28)\n",
    "    \n",
    "    # Image module, sirve para generar la imagen correspondiente\n",
    "    imagen = Image.fromarray(dataMatrix, None)\n",
    "    imagen.save('imagenPrenda.png')\n",
    "    \n",
    "    img = mpimg.imread('imagenPrenda.png')\n",
    "    imgplot = plt.imshow(img)\n",
    "    \n",
    "    print(\"Imagen Real\")\n",
    "    plt.show()\n",
    "    print(\"Real: \", label[y_test[i]])\n",
    "    print(\"Predicho: \" + label[labelPredicho[i]])\n",
    "    print(\"\\n\")"
   ]
  },
  {
   "cell_type": "markdown",
   "metadata": {},
   "source": [
    "### CONCLUSIONES"
   ]
  },
  {
   "cell_type": "markdown",
   "metadata": {},
   "source": [
    "En conclusion se puede observar que se tuvo un acierto de 86%, lo cual es bastante alto dentro del modelo. Este modelo realizado con 130 capas, lo cual por la cantidad de datos obtendios se logro un acierto favorable. Los posibles errores pueden ser dados a la conversion de los datos, ya que el dataset dado se convirtio a int64 aproximo varios de los datos que eran parecido. Dentro del modelo no se observa que se pueda realizar overfitting"
   ]
  },
  {
   "cell_type": "code",
   "execution_count": null,
   "metadata": {},
   "outputs": [],
   "source": []
  }
 ],
 "metadata": {
  "kernelspec": {
   "display_name": "Python 3",
   "language": "python",
   "name": "python3"
  },
  "language_info": {
   "codemirror_mode": {
    "name": "ipython",
    "version": 3
   },
   "file_extension": ".py",
   "mimetype": "text/x-python",
   "name": "python",
   "nbconvert_exporter": "python",
   "pygments_lexer": "ipython3",
   "version": "3.8.2"
  }
 },
 "nbformat": 4,
 "nbformat_minor": 4
}
